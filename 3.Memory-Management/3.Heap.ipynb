{
 "cells": [
  {
   "cell_type": "markdown",
   "id": "fbbf88c2-95dc-4757-8296-dc8a359cf5a3",
   "metadata": {},
   "source": [
    "# 3. The Heap"
   ]
  },
  {
   "cell_type": "code",
   "execution_count": 1,
   "id": "f248e6d6-2578-411e-8d7d-968f69b8f190",
   "metadata": {},
   "outputs": [],
   "source": [
    "#include <stdlib.h>\n",
    "#include <iostream>"
   ]
  },
  {
   "cell_type": "markdown",
   "id": "1ff58792-250a-4b45-bd15-4ad5005cf094",
   "metadata": {},
   "source": [
    "## Using malloc and free"
   ]
  },
  {
   "cell_type": "code",
   "execution_count": 6,
   "id": "772eaf97-e195-45f4-bbb6-362c222e6568",
   "metadata": {},
   "outputs": [],
   "source": [
    "struct MyStruct {\n",
    "    int i; \n",
    "    double d; \n",
    "    char a[5];\n",
    "};"
   ]
  },
  {
   "cell_type": "code",
   "execution_count": 7,
   "id": "93ea27bc-a991-4daa-9460-8531fa2fb286",
   "metadata": {},
   "outputs": [
    {
     "name": "stdout",
     "output_type": "stream",
     "text": [
      "a\n"
     ]
    }
   ],
   "source": [
    "MyStruct *p = (MyStruct*)calloc(4,sizeof(MyStruct));\n",
    "p[0].i = 1; p[0].d = 3.14159; p[0].a[0] = 'a';\n",
    "\n",
    "std::cout << p[0].a << std::endl;\n",
    "\n",
    "free(p);"
   ]
  },
  {
   "cell_type": "markdown",
   "id": "aaf6ffe3-636a-4466-b055-471d30ef793e",
   "metadata": {},
   "source": [
    "## Using new and delete"
   ]
  },
  {
   "cell_type": "code",
   "execution_count": 4,
   "id": "8785c4ff-053a-4d0e-8637-1df3c75cb82c",
   "metadata": {},
   "outputs": [],
   "source": [
    "class MyClass {\n",
    "    private:\n",
    "        int* _number;\n",
    "    public:\n",
    "        MyClass(){\n",
    "            std::cout << \"Allocating memory...\" << std::endl;\n",
    "            _number = (int*)malloc(sizeof(int));\n",
    "        }\n",
    "    \n",
    "        ~MyClass(){\n",
    "            std::cout << \"Deleting memory...\" << std::endl;\n",
    "            free(_number);\n",
    "        }\n",
    "        \n",
    "        void setNumber(int number) {\n",
    "            *_number = number;\n",
    "            std::cout << \"Number: \" << *_number << std::endl;\n",
    "        }\n",
    "};"
   ]
  },
  {
   "cell_type": "code",
   "execution_count": 5,
   "id": "5aab4ee0-0193-441c-a04b-6602cd30d129",
   "metadata": {},
   "outputs": [
    {
     "name": "stdout",
     "output_type": "stream",
     "text": [
      "Allocating memory...\n",
      "Number: 42\n",
      "Deleting memory...\n"
     ]
    }
   ],
   "source": [
    "MyClass *myClass = new MyClass();\n",
    "myClass->setNumber(42); // works as expected\n",
    "delete myClass;"
   ]
  },
  {
   "cell_type": "code",
   "execution_count": null,
   "id": "b878b060-4ad7-477d-8854-a69ab6baf658",
   "metadata": {},
   "outputs": [],
   "source": []
  }
 ],
 "metadata": {
  "kernelspec": {
   "display_name": "C++17",
   "language": "C++17",
   "name": "xcpp17"
  },
  "language_info": {
   "codemirror_mode": "text/x-c++src",
   "file_extension": ".cpp",
   "mimetype": "text/x-c++src",
   "name": "c++",
   "version": "17"
  }
 },
 "nbformat": 4,
 "nbformat_minor": 5
}
