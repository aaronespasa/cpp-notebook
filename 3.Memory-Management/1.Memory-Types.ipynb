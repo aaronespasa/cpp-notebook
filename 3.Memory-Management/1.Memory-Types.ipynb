{
 "cells": [
  {
   "cell_type": "markdown",
   "id": "95b48244-73fc-4e98-8642-c5ae9876bbab",
   "metadata": {},
   "source": [
    "# 1. Memory Types"
   ]
  },
  {
   "cell_type": "markdown",
   "id": "22a68f74-388a-4aef-8533-469321750d55",
   "metadata": {},
   "source": [
    "## Cache Access Memory"
   ]
  },
  {
   "cell_type": "code",
   "execution_count": 1,
   "id": "d18eb1cd-a719-4967-848a-34c1787263b0",
   "metadata": {},
   "outputs": [],
   "source": [
    "#include <chrono>\n",
    "#include <iostream>"
   ]
  },
  {
   "cell_type": "code",
   "execution_count": 2,
   "id": "797ce1ca-703a-426f-bc2f-3c8c3292f46c",
   "metadata": {},
   "outputs": [],
   "source": [
    "using namespace std::chrono;"
   ]
  },
  {
   "cell_type": "markdown",
   "id": "b275b2af-f3df-410a-b138-fee8273b3ef8",
   "metadata": {},
   "source": [
    "In the following example, we're going to see the difference between interchanging the indices `i` and `j` when accessing the variable `x`. Keep in mind that C++ is **row major**:"
   ]
  },
  {
   "cell_type": "markdown",
   "id": "035344a2-9d45-4654-b3f9-5f9eb7e0ef82",
   "metadata": {},
   "source": [
    "#### x[i][j] = i + j   <- for row major"
   ]
  },
  {
   "cell_type": "code",
   "execution_count": 3,
   "id": "529387af-d54d-4db8-a745-c41479965938",
   "metadata": {},
   "outputs": [],
   "source": [
    "const int size = 4000;\n",
    "static int x[size][size];\n",
    "\n",
    "auto t1 = high_resolution_clock::now(); // start time measurement\n",
    "\n",
    "for (int i = 0; i < size; i++) {\n",
    "    for (int j = 0; j < size; j++) {\n",
    "        x[i][j] = i + j;\n",
    "        //std::cout << &x[i][j] << \": i=\" << i << \", j=\" << j << std::endl;\n",
    "    }\n",
    "}\n",
    "\n",
    "auto t2 = high_resolution_clock::now(); // stop time measurement"
   ]
  },
  {
   "cell_type": "code",
   "execution_count": 4,
   "id": "fffd41a0-2b7e-4c7e-9734-8187bf17baf7",
   "metadata": {},
   "outputs": [
    {
     "name": "stdout",
     "output_type": "stream",
     "text": [
      "Execution time: 23947 microseconds\n"
     ]
    }
   ],
   "source": [
    "auto duration = duration_cast<std::chrono::microseconds>(t2 - t1).count();\n",
    "std::cout << \"Execution time: \" << duration << \" microseconds\" << std::endl;"
   ]
  },
  {
   "cell_type": "markdown",
   "id": "66a1e898-577a-4b1d-bd94-a464c3d2eb71",
   "metadata": {},
   "source": [
    "#### x[j][i] = i + j   <- for column major"
   ]
  },
  {
   "cell_type": "code",
   "execution_count": 5,
   "id": "af0c2011-de6d-488e-80cb-a65655b9891e",
   "metadata": {},
   "outputs": [],
   "source": [
    "const int size = 4000;\n",
    "static int x[size][size];\n",
    "\n",
    "auto t1 = high_resolution_clock::now(); // start time measurement\n",
    "\n",
    "for (int i = 0; i < size; i++) {\n",
    "    for (int j = 0; j < size; j++) {\n",
    "        x[j][i] = i + j;\n",
    "        //std::cout << &x[j][i] << \": i=\" << i << \", j=\" << j << std::endl;\n",
    "    }\n",
    "}\n",
    "\n",
    "auto t2 = high_resolution_clock::now(); // stop time measurement"
   ]
  },
  {
   "cell_type": "code",
   "execution_count": 6,
   "id": "0f1658de-f724-4028-b571-6dfc5bfdbf9a",
   "metadata": {},
   "outputs": [
    {
     "name": "stdout",
     "output_type": "stream",
     "text": [
      "Execution time: 162314 microseconds\n"
     ]
    }
   ],
   "source": [
    "auto duration = duration_cast<std::chrono::microseconds>(t2 - t1).count();\n",
    "std::cout << \"Execution time: \" << duration << \" microseconds\" << std::endl;"
   ]
  },
  {
   "cell_type": "markdown",
   "id": "367d0152-6066-4d7e-b62c-2eea4614257e",
   "metadata": {},
   "source": [
    "Taking advantage of the row major memory layout makes our program **6.78x times faster** in this case!\n",
    "$$162314 / 23947 \\approx 6.78$$"
   ]
  },
  {
   "cell_type": "code",
   "execution_count": null,
   "id": "f67542c6-886c-4dc0-98d3-4b6f42cac681",
   "metadata": {},
   "outputs": [],
   "source": []
  }
 ],
 "metadata": {
  "kernelspec": {
   "display_name": "C++17",
   "language": "C++17",
   "name": "xcpp17"
  },
  "language_info": {
   "codemirror_mode": "text/x-c++src",
   "file_extension": ".cpp",
   "mimetype": "text/x-c++src",
   "name": "c++",
   "version": "17"
  }
 },
 "nbformat": 4,
 "nbformat_minor": 5
}
