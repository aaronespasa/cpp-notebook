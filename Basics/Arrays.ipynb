{
 "cells": [
  {
   "cell_type": "markdown",
   "id": "533e5771",
   "metadata": {},
   "source": [
    "# Arrays\n",
    "\n",
    "### C++ arrays can be declared as:\n",
    "\n",
    "`variableType arrayName [] = {variables to be stored in the array};`\n",
    "\n",
    "or as:\n",
    "\n",
    "`variableType arrayName[array size];`\n",
    "\n",
    "### We can access the values in an array in the following way:\n",
    "\n",
    "`variableType arrayName[index number];`"
   ]
  },
  {
   "cell_type": "code",
   "execution_count": 16,
   "id": "e3c954b6",
   "metadata": {},
   "outputs": [],
   "source": [
    "#include <iostream>\n",
    "#include <stdio.h>"
   ]
  },
  {
   "cell_type": "code",
   "execution_count": 24,
   "id": "bef83b36",
   "metadata": {},
   "outputs": [],
   "source": [
    "int userInput[40];"
   ]
  },
  {
   "cell_type": "code",
   "execution_count": 25,
   "id": "502b0cfe",
   "metadata": {},
   "outputs": [],
   "source": [
    "// Enter the numbers into an array called userInput\n",
    "for(int i = 0; i < 40; i++)\n",
    "{\n",
    "    scanf(\"%d\", &userInput[i]);\n",
    "}"
   ]
  },
  {
   "cell_type": "code",
   "execution_count": 27,
   "id": "3f9b36fd",
   "metadata": {},
   "outputs": [
    {
     "name": "stdout",
     "output_type": "stream",
     "text": [
      "The array:\n",
      "0, 0, 0, 0, 0, 0, 0, 0, 0, 0, 0, 0, 0, 0, 0, 0, 0, 0, 0, 0, 0, 0, 0, 0, 0, 0, 0, 0, 0, 0, 0, 0, 0, 0, 0, 0, 0, 0, 0, 0, "
     ]
    }
   ],
   "source": [
    "// Print the array\n",
    "std::cout << \"The array:\\n\";\n",
    "for(int i = 0; i < 40; i++)\n",
    "{\n",
    "    std::cout << userInput[i] << \", \";\n",
    "}"
   ]
  },
  {
   "cell_type": "code",
   "execution_count": null,
   "id": "c0149bb0",
   "metadata": {},
   "outputs": [],
   "source": []
  }
 ],
 "metadata": {
  "kernelspec": {
   "display_name": "C++17",
   "language": "C++17",
   "name": "xcpp17"
  },
  "language_info": {
   "codemirror_mode": "text/x-c++src",
   "file_extension": ".cpp",
   "mimetype": "text/x-c++src",
   "name": "c++",
   "version": "17"
  }
 },
 "nbformat": 4,
 "nbformat_minor": 5
}
