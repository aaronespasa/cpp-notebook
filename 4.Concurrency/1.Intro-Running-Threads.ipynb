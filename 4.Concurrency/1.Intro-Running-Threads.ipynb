{
 "cells": [
  {
   "cell_type": "markdown",
   "id": "dc4b2a20",
   "metadata": {},
   "source": [
    "# Introduction & Running Threads"
   ]
  },
  {
   "cell_type": "code",
   "execution_count": 6,
   "id": "f3ad64a3-1fc9-4442-b937-deb7c84b7d8e",
   "metadata": {},
   "outputs": [],
   "source": [
    "#include <iostream>\n",
    "#include <thread>    // thread library"
   ]
  },
  {
   "cell_type": "markdown",
   "id": "9679c101-9d34-4897-bfc6-d30464507feb",
   "metadata": {},
   "source": [
    "### Get Thread ID"
   ]
  },
  {
   "cell_type": "code",
   "execution_count": 7,
   "id": "1336f919-d91b-414b-b4ce-56c7d81bd250",
   "metadata": {},
   "outputs": [
    {
     "name": "stdout",
     "output_type": "stream",
     "text": [
      "Thread id = 281473232802912\n"
     ]
    }
   ],
   "source": [
    "std::cout << \"Thread id = \" << std::this_thread::get_id() << std::endl;"
   ]
  },
  {
   "cell_type": "markdown",
   "id": "2b7fb0bc-36ff-4d34-a914-f936868f15ae",
   "metadata": {},
   "source": [
    "### Get Number of Threads available"
   ]
  },
  {
   "cell_type": "code",
   "execution_count": 8,
   "id": "f8cc3960-c09c-4439-81aa-261e7a5a77ee",
   "metadata": {},
   "outputs": [
    {
     "name": "stdout",
     "output_type": "stream",
     "text": [
      "This machine supports concurrency with 4 concurrent threads available\n"
     ]
    }
   ],
   "source": [
    "unsigned int nThreads = std::thread::hardware_concurrency();\n",
    "std::cout << \"This machine supports concurrency with \" << nThreads << \" concurrent threads available\" << std::endl;"
   ]
  },
  {
   "cell_type": "markdown",
   "id": "fcfe5629-26ff-4e59-91b4-baa26434827c",
   "metadata": {},
   "source": [
    "## Starting a Second Thread"
   ]
  },
  {
   "cell_type": "code",
   "execution_count": 9,
   "id": "6f75af3c-8de1-4060-9729-77b97583e382",
   "metadata": {},
   "outputs": [],
   "source": [
    "void threadFunctionName() {\n",
    "    std::this_thread::sleep_for(std::chrono::milliseconds(100));\n",
    "    std::cout << \"Finished work in function with thread ID: \" << std::this_thread::get_id() << std::endl;\n",
    "}"
   ]
  },
  {
   "cell_type": "code",
   "execution_count": 10,
   "id": "5471379c-448e-432b-98e1-3c66f72110b7",
   "metadata": {},
   "outputs": [
    {
     "name": "stdout",
     "output_type": "stream",
     "text": [
      "Finished work in main function with thread ID: 281473232802912\n",
      "Finished work function with thread ID: 281472993820384\n"
     ]
    }
   ],
   "source": [
    "std::thread t(threadFunctionName);\n",
    "\n",
    "std::cout << \"Finished work in main function with thread ID: \" << std::this_thread::get_id() << std::endl;\n",
    "\n",
    "// wait for thread to finish\n",
    "t.join()"
   ]
  },
  {
   "cell_type": "markdown",
   "id": "58aaed1a-d29b-4c7c-a0e5-d141f92a31e7",
   "metadata": {},
   "source": [
    "### Randomness of events"
   ]
  },
  {
   "cell_type": "code",
   "execution_count": 12,
   "id": "35f7ead3-f429-42bc-8a2a-38698bc703e4",
   "metadata": {},
   "outputs": [],
   "source": [
    "void threadFunction()\n",
    "{\n",
    "    std::this_thread::sleep_for(std::chrono::milliseconds(50));\n",
    "    std::cout << \"Finished work 1 in thread\\n\"; \n",
    "\n",
    "    std::this_thread::sleep_for(std::chrono::milliseconds(50)); \n",
    "    std::cout << \"Finished work 2 in thread\\n\"; \n",
    "}"
   ]
  },
  {
   "cell_type": "code",
   "execution_count": 15,
   "id": "e691f61e-19ea-42f2-9d96-c31e342b080e",
   "metadata": {},
   "outputs": [
    {
     "name": "stdout",
     "output_type": "stream",
     "text": [
      "Finished work 1 in main\n",
      "Finished work 1 in thread\n",
      "Finished work 2 in thread\n",
      "Finished work 2 in main\n"
     ]
    }
   ],
   "source": [
    "std::thread t(threadFunction);\n",
    "\n",
    "std::this_thread::sleep_for(std::chrono::milliseconds(50));\n",
    "std::cout << \"Finished work 1 in main\\n\";\n",
    "\n",
    "std::this_thread::sleep_for(std::chrono::milliseconds(50)); \n",
    "std::cout << \"Finished work 2 in main\\n\";\n",
    "\n",
    "t.join();"
   ]
  },
  {
   "cell_type": "markdown",
   "id": "afbaaab4-8645-4a78-ae55-6a59312bd0c0",
   "metadata": {},
   "source": [
    "The above result can change every time we execute it.\n",
    "We can try moving the `t.join` just above `std::tread t(threadFunction);` and we'll wait for the thread to finish, controlling the flow in this way."
   ]
  },
  {
   "cell_type": "code",
   "execution_count": null,
   "id": "c65a1af4-a3ed-408c-8db0-855dc37db22a",
   "metadata": {},
   "outputs": [],
   "source": []
  }
 ],
 "metadata": {
  "kernelspec": {
   "display_name": "C++17",
   "language": "C++17",
   "name": "xcpp17"
  },
  "language_info": {
   "codemirror_mode": "text/x-c++src",
   "file_extension": ".cpp",
   "mimetype": "text/x-c++src",
   "name": "c++",
   "version": "17"
  }
 },
 "nbformat": 4,
 "nbformat_minor": 5
}
