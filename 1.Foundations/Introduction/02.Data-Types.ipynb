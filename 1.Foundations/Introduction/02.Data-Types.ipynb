{
 "cells": [
  {
   "cell_type": "markdown",
   "id": "drawn-progress",
   "metadata": {},
   "source": [
    "# Data Types"
   ]
  },
  {
   "cell_type": "markdown",
   "id": "8fc79a7e",
   "metadata": {},
   "source": [
    "## Import the input/output stream library"
   ]
  },
  {
   "cell_type": "code",
   "execution_count": 2,
   "id": "ef8eb88a",
   "metadata": {},
   "outputs": [],
   "source": [
    "#include <iostream>"
   ]
  },
  {
   "cell_type": "markdown",
   "id": "5af656ac",
   "metadata": {},
   "source": [
    "## Main function in Jupyter Notebooks"
   ]
  },
  {
   "cell_type": "markdown",
   "id": "pregnant-focus",
   "metadata": {},
   "source": [
    "In a C++ file we use the following structure to execute the main program:"
   ]
  },
  {
   "cell_type": "code",
   "execution_count": 3,
   "id": "a47847f4",
   "metadata": {},
   "outputs": [],
   "source": [
    "int main(){\n",
    "    std::cout << \"Hello world, I am ready for C++\";\n",
    "    return 0;\n",
    "}"
   ]
  },
  {
   "cell_type": "markdown",
   "id": "lined-credits",
   "metadata": {},
   "source": [
    "However, in jupyter notebooks that's equivalent to:"
   ]
  },
  {
   "cell_type": "code",
   "execution_count": 4,
   "id": "06ff738d",
   "metadata": {},
   "outputs": [
    {
     "name": "stdout",
     "output_type": "stream",
     "text": [
      "Hello world, I am ready for C++"
     ]
    }
   ],
   "source": [
    "std::cout << \"Hello world, I am ready for C++\";"
   ]
  },
  {
   "cell_type": "markdown",
   "id": "2d435080",
   "metadata": {},
   "source": [
    "## Namespace\n",
    "To avoid writing std:: we can use the **namespace**.\n",
    "\n",
    "This tells the compiler to assume we are using the standard library in this case."
   ]
  },
  {
   "cell_type": "code",
   "execution_count": 5,
   "id": "b025b885",
   "metadata": {},
   "outputs": [],
   "source": [
    "using namespace std;"
   ]
  },
  {
   "cell_type": "code",
   "execution_count": 9,
   "id": "3563ac46",
   "metadata": {},
   "outputs": [
    {
     "name": "stdout",
     "output_type": "stream",
     "text": [
      "Hello world, I am ready for C++"
     ]
    }
   ],
   "source": [
    "// cout instead of std::cout\n",
    "cout << \"Hello world, I am ready for C++\";"
   ]
  },
  {
   "cell_type": "markdown",
   "id": "7a38163d",
   "metadata": {},
   "source": [
    "## Declaring variables\n",
    "\n",
    "| DATA TYPES \t| DESCRIPTION           \t| SIZE (in bytes) \t|\n",
    "|------------\t|-----------------------\t|-----------------\t|\n",
    "| `int`      \t| Integer               \t| 2 or 4          \t|\n",
    "| `float`    \t| Floating-point        \t| 4               \t|\n",
    "| `double`   \t| Double Floating-point \t| 8               \t|\n",
    "| `char`     \t| Character             \t| 1               \t|\n",
    "| `wchar_t`  \t| Wide character        \t| 2               \t|\n",
    "| `bool`     \t| Boolean               \t| 1               \t|\n",
    "| `void`     \t| Empty                 \t| 0               \t|"
   ]
  },
  {
   "cell_type": "code",
   "execution_count": 10,
   "id": "a6806331",
   "metadata": {},
   "outputs": [
    {
     "name": "stdout",
     "output_type": "stream",
     "text": [
      "They pay me 5000$/month"
     ]
    }
   ],
   "source": [
    "int salary = 5000;\n",
    "\n",
    "std::cout << \"They pay me \" << salary << \"$/month\";"
   ]
  },
  {
   "cell_type": "markdown",
   "id": "a85ea771",
   "metadata": {},
   "source": [
    "### Input"
   ]
  },
  {
   "cell_type": "markdown",
   "id": "loaded-uzbekistan",
   "metadata": {},
   "source": [
    "To ask the user for an input we use `std::cin >> inputName;`"
   ]
  },
  {
   "cell_type": "code",
   "execution_count": 12,
   "id": "565c61d0",
   "metadata": {},
   "outputs": [
    {
     "name": "stdout",
     "output_type": "stream",
     "text": [
      "Enter your name: Jimena\n",
      "\n",
      "We already know that your name is Jimena"
     ]
    }
   ],
   "source": [
    "#include <string>\n",
    "\n",
    "std::string name = \"\";\n",
    "\n",
    "std::cout << \"Enter your name: \";\n",
    "std::cin >> name;\n",
    "std::cout << std::endl << \"We already know that your name is \" << name;"
   ]
  },
  {
   "cell_type": "code",
   "execution_count": null,
   "id": "a72684b5",
   "metadata": {},
   "outputs": [],
   "source": []
  }
 ],
 "metadata": {
  "kernelspec": {
   "display_name": "C++17",
   "language": "C++17",
   "name": "xcpp17"
  },
  "language_info": {
   "codemirror_mode": "text/x-c++src",
   "file_extension": ".cpp",
   "mimetype": "text/x-c++src",
   "name": "c++",
   "version": "17"
  }
 },
 "nbformat": 4,
 "nbformat_minor": 5
}
