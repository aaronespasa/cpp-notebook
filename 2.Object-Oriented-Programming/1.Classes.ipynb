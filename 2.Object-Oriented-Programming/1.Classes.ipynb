{
 "cells": [
  {
   "cell_type": "markdown",
   "id": "70ae89a9-27ed-40d9-8009-86a172271c9a",
   "metadata": {},
   "source": [
    "# Classes"
   ]
  },
  {
   "cell_type": "markdown",
   "id": "2db9276d-dd83-4c3e-a847-fba593d5bf16",
   "metadata": {},
   "source": [
    "They are just like structures. By convention, we typically use classes instead of structures when we want to make some data members private to apply them some limitations."
   ]
  },
  {
   "cell_type": "code",
   "execution_count": 4,
   "id": "e6d483cd-573b-4aef-893f-3236ab9cf7ab",
   "metadata": {},
   "outputs": [],
   "source": [
    "#include <iostream>"
   ]
  },
  {
   "cell_type": "markdown",
   "id": "1d556a04-bcbb-426b-9c16-1e0990c19791",
   "metadata": {},
   "source": [
    "## Constructor defined inside the class definition"
   ]
  },
  {
   "cell_type": "code",
   "execution_count": 7,
   "id": "ec426f28-2992-4cda-a485-0705b245b6a4",
   "metadata": {},
   "outputs": [],
   "source": [
    "class Date {\n",
    "    public:\n",
    "        // Constructor\n",
    "        Date(int d, int m, int y) {\n",
    "            Day(d);\n",
    "            Month(m);\n",
    "            Year(y);\n",
    "        }\n",
    "    \n",
    "        int Day() { return day_; }\n",
    "        void Day(int d) {\n",
    "            if (d >= 1 && d <= 31) day_ = d;\n",
    "        }\n",
    "    \n",
    "        int Month() { return month_; }\n",
    "        void Month(int m) {\n",
    "            if (m >= 1 && m <= 12) month_ = m;\n",
    "        }\n",
    "    \n",
    "        int Year() { return year_; }\n",
    "        void Year(int y) { year_ = y; }\n",
    "    \n",
    "    private:\n",
    "        int day_{1};\n",
    "        int month_{1};\n",
    "        int year_{2000};\n",
    "};"
   ]
  },
  {
   "cell_type": "code",
   "execution_count": 8,
   "id": "6c1d8eee-e202-490f-bedf-ed837cbece7c",
   "metadata": {},
   "outputs": [],
   "source": [
    "Date date(-1, 14, 2021);"
   ]
  },
  {
   "cell_type": "code",
   "execution_count": 9,
   "id": "d48e51cf-b2aa-41cc-94e1-aa24d1fcabd7",
   "metadata": {},
   "outputs": [
    {
     "name": "stdout",
     "output_type": "stream",
     "text": [
      "1/1/2021\n"
     ]
    }
   ],
   "source": [
    "std::cout << date.Day() << \"/\" << date.Month() << \"/\" << date.Year() << std::endl;"
   ]
  },
  {
   "cell_type": "markdown",
   "id": "97c07f58-aa49-4518-8f0d-aa63da66e2aa",
   "metadata": {},
   "source": [
    "## Constructor defined outside the class definition"
   ]
  },
  {
   "cell_type": "code",
   "execution_count": 53,
   "id": "0e351785-3f20-4955-99ef-159a2e041abe",
   "metadata": {},
   "outputs": [],
   "source": [
    "class Date {\n",
    "    public:\n",
    "        Date(int day, int month, int year);\n",
    "    \n",
    "        int Day() const { return day_; }\n",
    "        void Day(int day);\n",
    "    \n",
    "        int Month() const { return month_; }\n",
    "        void Month(int month);\n",
    "    \n",
    "        int Year() const { return year_; }\n",
    "    \n",
    "    private:\n",
    "        bool LeapYear(int year) const;\n",
    "        int DaysInMonth(int month, int year) const;\n",
    "        int day_{1};\n",
    "        int month_{1};\n",
    "        int year_{2000};\n",
    "};"
   ]
  },
  {
   "cell_type": "code",
   "execution_count": 54,
   "id": "a2f67958-37d5-401f-aae0-20bcc439f301",
   "metadata": {},
   "outputs": [],
   "source": [
    "// Constructor\n",
    "Date::Date(int day, int month, int y) : year_(y)  {\n",
    "    Day(day);\n",
    "    Month(month);\n",
    "}"
   ]
  },
  {
   "cell_type": "code",
   "execution_count": 55,
   "id": "0333dfcf-d24b-4554-988e-a721636f4071",
   "metadata": {},
   "outputs": [],
   "source": [
    "bool Date::LeapYear(int year) const {\n",
    "    if(year % 4 != 0)\n",
    "        return false;\n",
    "    else if(year % 100 != 0)\n",
    "        return true;\n",
    "    else if(year % 400 != 0)\n",
    "        return false;\n",
    "    else\n",
    "        return true;\n",
    "}"
   ]
  },
  {
   "cell_type": "code",
   "execution_count": 57,
   "id": "99856dbb-e013-44a8-97ec-f3541f3f2bb8",
   "metadata": {},
   "outputs": [],
   "source": [
    "int Date::DaysInMonth(int month, int year) const {\n",
    "    if(month == 2)\n",
    "        return LeapYear(year) ? 29 : 28;\n",
    "    else if(month == 4 || month == 6 || month == 9 || month == 11)\n",
    "        return 30;\n",
    "    else\n",
    "        return 31;\n",
    "}"
   ]
  },
  {
   "cell_type": "code",
   "execution_count": 58,
   "id": "ae280fc5-7657-479f-b2cd-c76fbfaf1b84",
   "metadata": {},
   "outputs": [],
   "source": [
    "void Date::Day(int day) {\n",
    "    if (day >= 1 && day <= DaysInMonth(Month(), Year())) Date::day_ = day;\n",
    "}"
   ]
  },
  {
   "cell_type": "code",
   "execution_count": 59,
   "id": "fd5d1513-1126-452b-8b27-6b4bae0b9d94",
   "metadata": {},
   "outputs": [],
   "source": [
    "void Date::Month(int month) {\n",
    "    if (month >= 1 && month <= 12) Date::month_ = month;\n",
    "}"
   ]
  },
  {
   "cell_type": "code",
   "execution_count": 60,
   "id": "da5fa020-2d7b-4f4a-bb5f-466355fc3d8e",
   "metadata": {},
   "outputs": [],
   "source": [
    "Date date2(-1, 14, 2021);"
   ]
  },
  {
   "cell_type": "code",
   "execution_count": 61,
   "id": "596a9877-66c0-449d-ae87-3647dc1c0458",
   "metadata": {},
   "outputs": [
    {
     "name": "stdout",
     "output_type": "stream",
     "text": [
      "1/1/2021\n"
     ]
    }
   ],
   "source": [
    "std::cout << date2.Day() << \"/\" << date2.Month() << \"/\" << date2.Year() << std::endl;"
   ]
  },
  {
   "cell_type": "code",
   "execution_count": null,
   "id": "ddcf428f-fd7d-452c-8924-408141a58530",
   "metadata": {},
   "outputs": [],
   "source": []
  }
 ],
 "metadata": {
  "kernelspec": {
   "display_name": "C++17",
   "language": "C++17",
   "name": "xcpp17"
  },
  "language_info": {
   "codemirror_mode": "text/x-c++src",
   "file_extension": ".cpp",
   "mimetype": "text/x-c++src",
   "name": "c++",
   "version": "17"
  }
 },
 "nbformat": 4,
 "nbformat_minor": 5
}
