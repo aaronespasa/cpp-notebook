{
 "cells": [
  {
   "cell_type": "markdown",
   "id": "eb7a49cb-c7d8-4aa1-a5f8-27e52c46e819",
   "metadata": {},
   "source": [
    "# Advanced OOP"
   ]
  },
  {
   "cell_type": "markdown",
   "id": "f81ec481-a13d-4dc3-89f6-6947cdc1cff9",
   "metadata": {},
   "source": [
    "# Inheritance"
   ]
  },
  {
   "cell_type": "code",
   "execution_count": 1,
   "id": "acb95fcd-1900-4217-a2a0-6dcc8c3d9eaa",
   "metadata": {},
   "outputs": [],
   "source": [
    "#include <iostream>"
   ]
  },
  {
   "cell_type": "code",
   "execution_count": 2,
   "id": "5660eb2b-22c9-4d17-9494-675f6a34bd64",
   "metadata": {},
   "outputs": [],
   "source": [
    "class Vehicle {\n",
    "    public:\n",
    "        std::string color = \"white\";\n",
    "        bool areLightsTurnOn() const { return lightsStatus; } // Accessor\n",
    "        void switchLights() { lightsStatus = !lightsStatus; } // Mutator\n",
    "    \n",
    "    private:\n",
    "        bool lightsStatus{false};\n",
    "        \n",
    "};"
   ]
  },
  {
   "cell_type": "code",
   "execution_count": 3,
   "id": "dd688f9f-e43d-4d85-a77b-8117f13f6b1c",
   "metadata": {},
   "outputs": [],
   "source": [
    "// Car inherits from Vehicle\n",
    "class Car : public Vehicle {\n",
    "    public:\n",
    "        std::string color = \"blue\";\n",
    "        int wheelsNum{4};\n",
    "};"
   ]
  },
  {
   "cell_type": "code",
   "execution_count": 4,
   "id": "8468ac0e-d626-4418-86e5-9264cd1bb50e",
   "metadata": {},
   "outputs": [],
   "source": [
    "// Motorcycle inherits from Vehicle\n",
    "class Motorcycle : public Vehicle {\n",
    "    public:\n",
    "        std::string color = \"red\";\n",
    "        int wheelsNum{2};\n",
    "};"
   ]
  },
  {
   "cell_type": "code",
   "execution_count": 5,
   "id": "1d8013a4-b3af-428e-8297-a15fe6e5bd42",
   "metadata": {},
   "outputs": [
    {
     "name": "stdout",
     "output_type": "stream",
     "text": [
      "Number of wheels of the Car: 4\n",
      "Color of the Car: blue\n",
      "Number of wheels of the Motorcycle: 2\n",
      "Color of the Motorcycle: red\n"
     ]
    }
   ],
   "source": [
    "Car car;\n",
    "Motorcycle moto;\n",
    "\n",
    "std::cout << \"Number of wheels of the Car: \" << car.wheelsNum << std::endl;\n",
    "std::cout << \"Color of the Car: \" << car.color << std::endl; \n",
    "std::cout << \"Number of wheels of the Motorcycle: \" << moto.wheelsNum << std::endl;\n",
    "std::cout << \"Color of the Motorcycle: \" << moto.color << std::endl; "
   ]
  },
  {
   "cell_type": "markdown",
   "id": "e4d3ba99-27d0-421c-a995-84fee1bea863",
   "metadata": {},
   "source": [
    "### Access modifiers"
   ]
  },
  {
   "cell_type": "code",
   "execution_count": 6,
   "id": "6af97eab-495f-4fe7-9411-c5d3875beb33",
   "metadata": {},
   "outputs": [],
   "source": [
    "#include <iostream>\n",
    "#include <string>\n",
    "using std::string;"
   ]
  },
  {
   "cell_type": "code",
   "execution_count": 7,
   "id": "0eb5bf35-ac22-4a2d-baa2-cfe1231e4633",
   "metadata": {},
   "outputs": [],
   "source": [
    "class Vehicle {\n",
    "public:\n",
    "    int wheels = 0;\n",
    "    string color = \"blue\";\n",
    "    \n",
    "    void Print() const\n",
    "    {\n",
    "        std::cout << \"This \" << color << \" vehicle has \" << wheels << \" wheels!\\n\";\n",
    "    }\n",
    "};"
   ]
  },
  {
   "cell_type": "code",
   "execution_count": 8,
   "id": "fa3f591a-f957-48aa-a171-e5560c11ef57",
   "metadata": {},
   "outputs": [],
   "source": [
    "class Car : public Vehicle {\n",
    "public:\n",
    "    bool sunroof = false;\n",
    "};"
   ]
  },
  {
   "cell_type": "code",
   "execution_count": 9,
   "id": "ea847b8c-fe83-4c3d-a9a3-2e369993f442",
   "metadata": {},
   "outputs": [],
   "source": [
    "class Bicycle : protected Vehicle {\n",
    "public:\n",
    "    bool kickstand = true;\n",
    "    void Wheels(int w) {\n",
    "        wheels = w;\n",
    "    }\n",
    "};"
   ]
  },
  {
   "cell_type": "code",
   "execution_count": 10,
   "id": "2fe699fa-4c20-4887-87fa-213dcff1b42b",
   "metadata": {},
   "outputs": [],
   "source": [
    "class Scooter : private Vehicle {\n",
    "public:\n",
    "    bool electric = false;\n",
    "    void Wheels(int w) {\n",
    "        wheels = w;\n",
    "    }\n",
    "};"
   ]
  },
  {
   "cell_type": "code",
   "execution_count": 11,
   "id": "e2329e24-a739-4c68-920f-5a93eeafd37f",
   "metadata": {},
   "outputs": [],
   "source": [
    "Car car;\n",
    "car.wheels = 4;"
   ]
  },
  {
   "cell_type": "code",
   "execution_count": 12,
   "id": "e223f267-83e5-4103-aa0f-fb36825dd09a",
   "metadata": {},
   "outputs": [],
   "source": [
    "Bicycle bike;\n",
    "// bike.wheels = 2; will throw us an error because in inherits\n",
    "// wheels from Car as a protected member.\n",
    "bike.Wheels(2);  // however, this works correctly!"
   ]
  },
  {
   "cell_type": "code",
   "execution_count": 13,
   "id": "dae77c85-f678-4f96-92da-f43e79e4b772",
   "metadata": {},
   "outputs": [],
   "source": [
    "Scooter scooter;\n",
    "// scooter.wheels = 2; also won't work\n",
    "scooter.Wheels(2);"
   ]
  },
  {
   "cell_type": "markdown",
   "id": "c0f9b232-48ca-4e84-bf2b-c14a8a5bf756",
   "metadata": {},
   "source": [
    "## Composition"
   ]
  },
  {
   "cell_type": "code",
   "execution_count": 1,
   "id": "b94a4d45-85a3-4f7d-aa1a-aecbbe4b54cd",
   "metadata": {},
   "outputs": [],
   "source": [
    "#include <iostream>\n",
    "#include <string>\n",
    "#include <vector>"
   ]
  },
  {
   "cell_type": "code",
   "execution_count": 2,
   "id": "82e8c67d-20b3-4e26-b189-575cf98092ae",
   "metadata": {},
   "outputs": [],
   "source": [
    "class Wheel {\n",
    "    public:\n",
    "        Wheel() : diameter(50) {}\n",
    "        int diameter;\n",
    "};"
   ]
  },
  {
   "cell_type": "code",
   "execution_count": 3,
   "id": "3c19442b-913b-457c-8e2f-61f080344080",
   "metadata": {},
   "outputs": [],
   "source": [
    "// Class Car is composed of wheels\n",
    "class Car {\n",
    "    public:\n",
    "        // wheels is declared as a vector of 4 Wheels\n",
    "        Car() : wheels(4, Wheel()) {}\n",
    "        std::vector<Wheel> wheels;\n",
    "};"
   ]
  },
  {
   "cell_type": "code",
   "execution_count": 4,
   "id": "746db58a-d4b6-4ab0-a113-3aa6fc57843f",
   "metadata": {},
   "outputs": [
    {
     "name": "stdout",
     "output_type": "stream",
     "text": [
      "Number of wheels: 4\n",
      "Diameter of each wheel: 50\n"
     ]
    }
   ],
   "source": [
    "Car car;\n",
    "std::cout << \"Number of wheels: \" << car.wheels.size() << std::endl;\n",
    "std::cout << \"Diameter of each wheel: \" << car.wheels[0].diameter << std::endl;"
   ]
  },
  {
   "cell_type": "markdown",
   "id": "c979a40a-f3e8-40e2-9be1-359b85462843",
   "metadata": {},
   "source": [
    "# Friend"
   ]
  },
  {
   "cell_type": "code",
   "execution_count": 12,
   "id": "7027eacd-e432-498f-b1b2-06517245de7a",
   "metadata": {},
   "outputs": [],
   "source": [
    "#include <iostream>"
   ]
  },
  {
   "cell_type": "code",
   "execution_count": 13,
   "id": "a7cf0145-b2dc-45c8-9b20-e2fdcccec770",
   "metadata": {},
   "outputs": [],
   "source": [
    "class Heart {\n",
    "    private:\n",
    "        int rate{80};\n",
    "        friend class Human;\n",
    "};"
   ]
  },
  {
   "cell_type": "code",
   "execution_count": 14,
   "id": "524fe50f-45e4-41af-80c3-81f45ee77c2c",
   "metadata": {},
   "outputs": [],
   "source": [
    "class Human {\n",
    "    public:\n",
    "        Heart heart;\n",
    "        void Exercise() { heart.rate = 150; }\n",
    "        int HeartRate() { return heart.rate; } \n",
    "};"
   ]
  },
  {
   "cell_type": "code",
   "execution_count": 15,
   "id": "812f052e-236f-47be-82ed-8985bea3d83c",
   "metadata": {},
   "outputs": [
    {
     "name": "stdout",
     "output_type": "stream",
     "text": [
      "80\n",
      "150\n"
     ]
    }
   ],
   "source": [
    "Human human;\n",
    "// See that, even when rate is a private member of Heart, Human can access it (getter)\n",
    "std::cout << human.HeartRate() << std::endl;\n",
    "/// And modify it\n",
    "human.Exercise();\n",
    "std::cout << human.HeartRate() << std::endl;"
   ]
  },
  {
   "cell_type": "markdown",
   "id": "b0380851-b712-4e92-99ab-7e0ae0f55a8e",
   "metadata": {},
   "source": [
    "## Overloading"
   ]
  },
  {
   "cell_type": "code",
   "execution_count": 18,
   "id": "904a15fa-af5a-499f-8824-741fd87274b1",
   "metadata": {},
   "outputs": [],
   "source": [
    "#include <iostream>\n",
    "#include <string>"
   ]
  },
  {
   "cell_type": "code",
   "execution_count": 19,
   "id": "43235f56-6f07-46e6-8a9b-e00c0b6a8218",
   "metadata": {},
   "outputs": [],
   "source": [
    "class Water {};\n",
    "class Alcohol {};"
   ]
  },
  {
   "cell_type": "code",
   "execution_count": 28,
   "id": "1b736793-277a-4990-a583-9afea488f019",
   "metadata": {},
   "outputs": [],
   "source": [
    "class Human {\n",
    "    public:\n",
    "        std::string condition = \"happy\";\n",
    "\n",
    "        void Drink(Water water) { condition = \"hydrated\"; }\n",
    "        void Drink(Alcohol alcohol) { condition = \"drunk\"; }\n",
    "};"
   ]
  },
  {
   "cell_type": "code",
   "execution_count": 31,
   "id": "18d70fbd-ae9a-4866-b88b-f74deadd2a9d",
   "metadata": {},
   "outputs": [
    {
     "name": "stdout",
     "output_type": "stream",
     "text": [
      "If marcos drinks water: hydrated\n",
      "If marcos drinks alcohol: drunk\n"
     ]
    }
   ],
   "source": [
    "Human marcos;\n",
    "\n",
    "marcos.Drink(Water());\n",
    "std::cout << \"If marcos drinks water: \" << marcos.condition << std::endl;\n",
    "\n",
    "marcos.Drink(Alcohol());\n",
    "std::cout << \"If marcos drinks alcohol: \" << marcos.condition << std::endl;"
   ]
  },
  {
   "cell_type": "markdown",
   "id": "48de5138-bbc9-4c7b-b6df-afebbe10925b",
   "metadata": {},
   "source": [
    "### Operator Overloading"
   ]
  },
  {
   "cell_type": "code",
   "execution_count": 20,
   "id": "1b9fd9d2-9fa6-44bb-9c66-5cf6a7e0c2d3",
   "metadata": {},
   "outputs": [],
   "source": [
    "#include <iostream>\n",
    "#include <vector>"
   ]
  },
  {
   "cell_type": "code",
   "execution_count": 21,
   "id": "8cd4614f-e7ea-4476-b244-2253e1f76dee",
   "metadata": {},
   "outputs": [],
   "source": [
    "class Point {\n",
    "    public:\n",
    "        Point(int x=0, int y=0) : x(x), y(y) {}\n",
    "        \n",
    "        // + Operator overload\n",
    "        Point operator+(const Point& secondPoint) {\n",
    "            Point resultPoint;  // new Point that is gonna be returned\n",
    "            resultPoint.x = x + secondPoint.x;\n",
    "            resultPoint.y = y + secondPoint.y;\n",
    "            return resultPoint;\n",
    "        }\n",
    "    \n",
    "        int x, y;\n",
    "};"
   ]
  },
  {
   "cell_type": "code",
   "execution_count": 22,
   "id": "d926c9d3-ade8-42a3-9dfb-4fb846b41882",
   "metadata": {},
   "outputs": [
    {
     "name": "stdout",
     "output_type": "stream",
     "text": [
      "12\n",
      "9\n"
     ]
    }
   ],
   "source": [
    "Point point1(10, 5), point2(2, 4);\n",
    "Point point3 = point1 + point2;\n",
    "\n",
    "std::cout << point3.x << std::endl;\n",
    "std::cout << point3.y << std::endl;"
   ]
  },
  {
   "cell_type": "markdown",
   "id": "ac1710f4-4ede-469e-aaa1-a82a2430b94a",
   "metadata": {},
   "source": [
    "# Virtual functions"
   ]
  },
  {
   "cell_type": "code",
   "execution_count": 1,
   "id": "53c78037-4489-4d31-99e8-b7c2b61463ed",
   "metadata": {},
   "outputs": [],
   "source": [
    "#include <iostream>"
   ]
  },
  {
   "cell_type": "code",
   "execution_count": 2,
   "id": "9e33c04b-3de4-4787-8d4b-fb7667e4e82f",
   "metadata": {},
   "outputs": [],
   "source": [
    "class Animal {\n",
    "    public:\n",
    "        // Virtual method Talk()\n",
    "        virtual void Talk() const = 0;\n",
    "};"
   ]
  },
  {
   "cell_type": "code",
   "execution_count": 3,
   "id": "30f96c1d-b90a-4333-9b7f-0f3366dc0ba5",
   "metadata": {},
   "outputs": [],
   "source": [
    "class Human : public Animal {\n",
    "    public:\n",
    "        void Talk() const {\n",
    "            std::cout << \"This method is using a virtual function\" << std::endl; \n",
    "        }\n",
    "};"
   ]
  },
  {
   "cell_type": "code",
   "execution_count": 4,
   "id": "53377d42-075b-403a-a667-7ff08592d44e",
   "metadata": {},
   "outputs": [
    {
     "name": "stdout",
     "output_type": "stream",
     "text": [
      "This method is using a virtual function\n"
     ]
    }
   ],
   "source": [
    "Human human;\n",
    "human.Talk()"
   ]
  },
  {
   "cell_type": "markdown",
   "id": "1f270536-1674-43dd-adb2-854851185315",
   "metadata": {},
   "source": [
    "We can also override one method that has been inherited from a derived class that uses a virtual function:"
   ]
  },
  {
   "cell_type": "code",
   "execution_count": 5,
   "id": "c733a5db-4a55-4697-b084-1f13fff8b956",
   "metadata": {},
   "outputs": [],
   "source": [
    "class Baby : public Human {\n",
    "    public:\n",
    "        void Talk() const {\n",
    "            std::cout << \":'(\" << std::endl;\n",
    "        }\n",
    "};"
   ]
  },
  {
   "cell_type": "code",
   "execution_count": 6,
   "id": "68625d05-cdc7-43f2-8732-6a05cf418f75",
   "metadata": {},
   "outputs": [
    {
     "name": "stdout",
     "output_type": "stream",
     "text": [
      ":'(\n"
     ]
    }
   ],
   "source": [
    "Baby baby;\n",
    "baby.Talk();"
   ]
  },
  {
   "cell_type": "code",
   "execution_count": null,
   "id": "c8f08f47-0c49-4e35-b894-42184cc663ba",
   "metadata": {},
   "outputs": [],
   "source": []
  }
 ],
 "metadata": {
  "kernelspec": {
   "display_name": "C++17",
   "language": "C++17",
   "name": "xcpp17"
  },
  "language_info": {
   "codemirror_mode": "text/x-c++src",
   "file_extension": ".cpp",
   "mimetype": "text/x-c++src",
   "name": "c++",
   "version": "17"
  }
 },
 "nbformat": 4,
 "nbformat_minor": 5
}
