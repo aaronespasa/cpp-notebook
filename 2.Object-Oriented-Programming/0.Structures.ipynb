{
 "cells": [
  {
   "cell_type": "markdown",
   "id": "97a5d90c-dcdf-425d-bf86-c610b48ec4be",
   "metadata": {},
   "source": [
    "# Structures"
   ]
  },
  {
   "cell_type": "markdown",
   "id": "93377fd6-b668-4910-bd4e-590455ed7be6",
   "metadata": {},
   "source": [
    "They are user-defined datatypes."
   ]
  },
  {
   "cell_type": "code",
   "execution_count": 9,
   "id": "6c6c01d3-35ef-4b5b-b337-089a798fcd5b",
   "metadata": {},
   "outputs": [],
   "source": [
    "#include <iostream>"
   ]
  },
  {
   "cell_type": "markdown",
   "id": "5437b653-1855-4e95-84e6-756306c33c35",
   "metadata": {
    "tags": []
   },
   "source": [
    "## Date Datatype -> Public members"
   ]
  },
  {
   "cell_type": "code",
   "execution_count": 6,
   "id": "7431aa18-86d3-4631-a56a-c13f6e8d57c0",
   "metadata": {},
   "outputs": [],
   "source": [
    "// Define a simple structure\n",
    "struct Date {\n",
    "  int day{1};       // Default value: 1\n",
    "  int month{1};     // Default value: 1\n",
    "  int year{2000};   // Default value: 2000\n",
    "};"
   ]
  },
  {
   "cell_type": "code",
   "execution_count": 7,
   "id": "fb53fad7-7641-43dc-9787-6a6725055796",
   "metadata": {},
   "outputs": [],
   "source": [
    "// Create a variable date with the datatype Date\n",
    "Date date;\n",
    "\n",
    "// Member variables\n",
    "date.day = 29;\n",
    "date.year = 1981;"
   ]
  },
  {
   "cell_type": "markdown",
   "id": "c255361a-1178-48f3-888f-e7aa10da64d4",
   "metadata": {},
   "source": [
    "See that, as we declared the default value of month as 1, it doesn't throw any errors even in this case where we didn't give it a value after being initialized:"
   ]
  },
  {
   "cell_type": "code",
   "execution_count": 8,
   "id": "0702f404-391a-49e9-89db-397a6b00fd70",
   "metadata": {},
   "outputs": [
    {
     "name": "stdout",
     "output_type": "stream",
     "text": [
      "29/1/1981\n"
     ]
    }
   ],
   "source": [
    "std::cout << date.day << \"/\" << date.month << \"/\" << date.year << std::endl;"
   ]
  },
  {
   "cell_type": "markdown",
   "id": "4439d80a-01cc-4fae-9de7-deed15ff22fd",
   "metadata": {},
   "source": [
    "## Date Datatype -> Public & Private members"
   ]
  },
  {
   "cell_type": "code",
   "execution_count": 10,
   "id": "2087148e-d422-4793-9835-74da48e402a2",
   "metadata": {},
   "outputs": [],
   "source": [
    "struct Date {\n",
    "    public:\n",
    "        int Day() { return day; }   // Accessor\n",
    "        void Day(int d) {     // Mutator\n",
    "            if(d > 1) {   // Just set the day if its value is greater than 1\n",
    "                day = d;\n",
    "            }\n",
    "        }  \n",
    "\n",
    "        int month{1};\n",
    "        int year{2000};\n",
    "    private:\n",
    "        int day{1};\n",
    "}"
   ]
  },
  {
   "cell_type": "code",
   "execution_count": 11,
   "id": "d470bd6b-0afc-422a-af99-f98de02580d7",
   "metadata": {},
   "outputs": [],
   "source": [
    "Date date2;"
   ]
  },
  {
   "cell_type": "code",
   "execution_count": 21,
   "id": "d95222b1-1d62-48e6-85c4-f1fbea7c757c",
   "metadata": {},
   "outputs": [],
   "source": [
    "date2.Day(-5);   // The value won't be set as it is negative"
   ]
  },
  {
   "cell_type": "code",
   "execution_count": 22,
   "id": "b7dc42c2-7529-4182-be32-088607211454",
   "metadata": {},
   "outputs": [
    {
     "name": "stdout",
     "output_type": "stream",
     "text": [
      "1\n"
     ]
    }
   ],
   "source": [
    "std::cout << date2.Day() << \"\\n\";"
   ]
  },
  {
   "cell_type": "code",
   "execution_count": 23,
   "id": "5afad548-8a37-466e-adb3-cb6c6b9c0157",
   "metadata": {},
   "outputs": [
    {
     "name": "stdout",
     "output_type": "stream",
     "text": [
      "23\n"
     ]
    }
   ],
   "source": [
    "date2.Day(23);   // This value will be accepted\n",
    "std::cout << date2.Day() << \"\\n\";"
   ]
  },
  {
   "cell_type": "code",
   "execution_count": null,
   "id": "39667431-44c5-4d53-8927-e661e3860830",
   "metadata": {},
   "outputs": [],
   "source": []
  }
 ],
 "metadata": {
  "kernelspec": {
   "display_name": "C++17",
   "language": "C++17",
   "name": "xcpp17"
  },
  "language_info": {
   "codemirror_mode": "text/x-c++src",
   "file_extension": ".cpp",
   "mimetype": "text/x-c++src",
   "name": "c++",
   "version": "17"
  }
 },
 "nbformat": 4,
 "nbformat_minor": 5
}
