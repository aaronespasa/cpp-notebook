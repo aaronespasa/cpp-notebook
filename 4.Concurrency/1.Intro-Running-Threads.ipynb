{
 "cells": [
  {
   "cell_type": "markdown",
   "id": "dc4b2a20",
   "metadata": {},
   "source": [
    "# Introduction & Running Threads"
   ]
  },
  {
   "cell_type": "code",
   "execution_count": 6,
   "id": "f3ad64a3-1fc9-4442-b937-deb7c84b7d8e",
   "metadata": {},
   "outputs": [],
   "source": [
    "#include <iostream>\n",
    "#include <thread>    // thread library"
   ]
  },
  {
   "cell_type": "markdown",
   "id": "9679c101-9d34-4897-bfc6-d30464507feb",
   "metadata": {},
   "source": [
    "### Get Thread ID"
   ]
  },
  {
   "cell_type": "code",
   "execution_count": 7,
   "id": "1336f919-d91b-414b-b4ce-56c7d81bd250",
   "metadata": {},
   "outputs": [
    {
     "name": "stdout",
     "output_type": "stream",
     "text": [
      "Thread id = 281473232802912\n"
     ]
    }
   ],
   "source": [
    "std::cout << \"Thread id = \" << std::this_thread::get_id() << std::endl;"
   ]
  },
  {
   "cell_type": "markdown",
   "id": "2b7fb0bc-36ff-4d34-a914-f936868f15ae",
   "metadata": {},
   "source": [
    "### Get Number of Threads available"
   ]
  },
  {
   "cell_type": "code",
   "execution_count": 8,
   "id": "f8cc3960-c09c-4439-81aa-261e7a5a77ee",
   "metadata": {},
   "outputs": [
    {
     "name": "stdout",
     "output_type": "stream",
     "text": [
      "This machine supports concurrency with 4 concurrent threads available\n"
     ]
    }
   ],
   "source": [
    "unsigned int nThreads = std::thread::hardware_concurrency();\n",
    "std::cout << \"This machine supports concurrency with \" << nThreads << \" concurrent threads available\" << std::endl;"
   ]
  },
  {
   "cell_type": "code",
   "execution_count": null,
   "id": "6f75af3c-8de1-4060-9729-77b97583e382",
   "metadata": {},
   "outputs": [],
   "source": []
  }
 ],
 "metadata": {
  "kernelspec": {
   "display_name": "C++17",
   "language": "C++17",
   "name": "xcpp17"
  },
  "language_info": {
   "codemirror_mode": "text/x-c++src",
   "file_extension": ".cpp",
   "mimetype": "text/x-c++src",
   "name": "c++",
   "version": "17"
  }
 },
 "nbformat": 4,
 "nbformat_minor": 5
}
