{
 "cells": [
  {
   "cell_type": "markdown",
   "id": "70ae89a9-27ed-40d9-8009-86a172271c9a",
   "metadata": {},
   "source": [
    "# Classes"
   ]
  },
  {
   "cell_type": "markdown",
   "id": "2db9276d-dd83-4c3e-a847-fba593d5bf16",
   "metadata": {},
   "source": [
    "They are just like structures. By convention, we typically use classes instead of structures when we want to make some data members private to apply them some limitations."
   ]
  },
  {
   "cell_type": "code",
   "execution_count": 27,
   "id": "e6d483cd-573b-4aef-893f-3236ab9cf7ab",
   "metadata": {},
   "outputs": [],
   "source": [
    "#include <iostream>"
   ]
  },
  {
   "cell_type": "markdown",
   "id": "1d556a04-bcbb-426b-9c16-1e0990c19791",
   "metadata": {},
   "source": [
    "## Constructor defined inside the class definition"
   ]
  },
  {
   "cell_type": "code",
   "execution_count": 28,
   "id": "ec426f28-2992-4cda-a485-0705b245b6a4",
   "metadata": {},
   "outputs": [],
   "source": [
    "class Date {\n",
    "    public:\n",
    "        // Constructor\n",
    "        Date(int d, int m, int y) {\n",
    "            Day(d);\n",
    "            Month(m);\n",
    "            Year(y);\n",
    "        }\n",
    "    \n",
    "        int Day() { return day_; }\n",
    "        void Day(int d) {\n",
    "            if (d >= 1 && d <= 31) day_ = d;\n",
    "        }\n",
    "    \n",
    "        int Month() { return month_; }\n",
    "        void Month(int m) {\n",
    "            if (m >= 1 && m <= 12) month_ = m;\n",
    "        }\n",
    "    \n",
    "        int Year() { return year_; }\n",
    "        void Year(int y) { year_ = y; }\n",
    "    \n",
    "    private:\n",
    "        int day_{1};\n",
    "        int month_{1};\n",
    "        int year_{2000};\n",
    "};"
   ]
  },
  {
   "cell_type": "code",
   "execution_count": 29,
   "id": "6c1d8eee-e202-490f-bedf-ed837cbece7c",
   "metadata": {},
   "outputs": [],
   "source": [
    "Date date(-1, 14, 2021);"
   ]
  },
  {
   "cell_type": "code",
   "execution_count": 30,
   "id": "d48e51cf-b2aa-41cc-94e1-aa24d1fcabd7",
   "metadata": {},
   "outputs": [
    {
     "name": "stdout",
     "output_type": "stream",
     "text": [
      "1/1/2021\n"
     ]
    }
   ],
   "source": [
    "std::cout << date.Day() << \"/\" << date.Month() << \"/\" << date.Year() << std::endl;"
   ]
  },
  {
   "cell_type": "markdown",
   "id": "97c07f58-aa49-4518-8f0d-aa63da66e2aa",
   "metadata": {},
   "source": [
    "## Constructor defined outside the class definition"
   ]
  },
  {
   "cell_type": "code",
   "execution_count": 31,
   "id": "0e351785-3f20-4955-99ef-159a2e041abe",
   "metadata": {},
   "outputs": [],
   "source": [
    "class Date {\n",
    "    public:\n",
    "        Date(int day, int month, int year);\n",
    "    \n",
    "        int Day() const { return day_; }\n",
    "        void Day(int day);\n",
    "    \n",
    "        int Month() const { return month_; }\n",
    "        void Month(int month);\n",
    "    \n",
    "        int Year() const { return year_; }\n",
    "    \n",
    "    private:\n",
    "        bool LeapYear(int year) const;\n",
    "        int DaysInMonth(int month, int year) const;\n",
    "        int day_{1};\n",
    "        int month_{1};\n",
    "        int year_{2000};\n",
    "};"
   ]
  },
  {
   "cell_type": "code",
   "execution_count": 32,
   "id": "a2f67958-37d5-401f-aae0-20bcc439f301",
   "metadata": {},
   "outputs": [],
   "source": [
    "// Constructor\n",
    "Date::Date(int day, int month, int y) : year_(y)  {\n",
    "    Day(day);\n",
    "    Month(month);\n",
    "}"
   ]
  },
  {
   "cell_type": "code",
   "execution_count": 33,
   "id": "0333dfcf-d24b-4554-988e-a721636f4071",
   "metadata": {},
   "outputs": [],
   "source": [
    "bool Date::LeapYear(int year) const {\n",
    "    if(year % 4 != 0)\n",
    "        return false;\n",
    "    else if(year % 100 != 0)\n",
    "        return true;\n",
    "    else if(year % 400 != 0)\n",
    "        return false;\n",
    "    else\n",
    "        return true;\n",
    "}"
   ]
  },
  {
   "cell_type": "code",
   "execution_count": 34,
   "id": "99856dbb-e013-44a8-97ec-f3541f3f2bb8",
   "metadata": {},
   "outputs": [],
   "source": [
    "int Date::DaysInMonth(int month, int year) const {\n",
    "    if(month == 2)\n",
    "        return LeapYear(year) ? 29 : 28;\n",
    "    else if(month == 4 || month == 6 || month == 9 || month == 11)\n",
    "        return 30;\n",
    "    else\n",
    "        return 31;\n",
    "}"
   ]
  },
  {
   "cell_type": "code",
   "execution_count": 35,
   "id": "ae280fc5-7657-479f-b2cd-c76fbfaf1b84",
   "metadata": {},
   "outputs": [],
   "source": [
    "void Date::Day(int day) {\n",
    "    if (day >= 1 && day <= DaysInMonth(Month(), Year())) Date::day_ = day;\n",
    "}"
   ]
  },
  {
   "cell_type": "code",
   "execution_count": 36,
   "id": "fd5d1513-1126-452b-8b27-6b4bae0b9d94",
   "metadata": {},
   "outputs": [],
   "source": [
    "void Date::Month(int month) {\n",
    "    if (month >= 1 && month <= 12) Date::month_ = month;\n",
    "}"
   ]
  },
  {
   "cell_type": "code",
   "execution_count": 37,
   "id": "da5fa020-2d7b-4f4a-bb5f-466355fc3d8e",
   "metadata": {},
   "outputs": [],
   "source": [
    "Date date2(-1, 14, 2021);"
   ]
  },
  {
   "cell_type": "code",
   "execution_count": 38,
   "id": "596a9877-66c0-449d-ae87-3647dc1c0458",
   "metadata": {},
   "outputs": [
    {
     "name": "stdout",
     "output_type": "stream",
     "text": [
      "1/1/2021\n"
     ]
    }
   ],
   "source": [
    "std::cout << date2.Day() << \"/\" << date2.Month() << \"/\" << date2.Year() << std::endl;"
   ]
  },
  {
   "cell_type": "markdown",
   "id": "9fe42667-cc57-4a13-93e0-021f6444d21d",
   "metadata": {},
   "source": [
    "# Class Examples"
   ]
  },
  {
   "cell_type": "markdown",
   "id": "853fb335-5958-4757-83c2-bf330956af3c",
   "metadata": {},
   "source": [
    "## Car"
   ]
  },
  {
   "cell_type": "code",
   "execution_count": 39,
   "id": "bd13dce1-eb27-4a98-9a9c-2500d884bcf2",
   "metadata": {},
   "outputs": [],
   "source": [
    "#include <string>\n",
    "#include <cstring>\n",
    "#include <iostream>"
   ]
  },
  {
   "cell_type": "code",
   "execution_count": 40,
   "id": "d37b0819-fe54-4927-8802-5b6462b63d49",
   "metadata": {},
   "outputs": [],
   "source": [
    "class Car {\n",
    "    // TODO: Declare private attributes\n",
    "    private:\n",
    "        int horsepower_{100};\n",
    "        int weight_{2000};\n",
    "        char *brand_;\n",
    "        \n",
    "    // TODO: Declare getter and setter for brand\n",
    "    public:\n",
    "        std::string GetBrand() const;\n",
    "        void SetBrand( std::string brand );\n",
    "};"
   ]
  },
  {
   "cell_type": "code",
   "execution_count": 41,
   "id": "81638281-8447-4112-9c04-0cc0a4f1de30",
   "metadata": {},
   "outputs": [],
   "source": [
    "void Car::SetBrand( std::string brand ) {\n",
    "    // Initialization of char array\n",
    "    Car::brand_ = new char[brand.length() + 1];\n",
    "    // Copying every character from string to char array\n",
    "    strcpy(Car::brand_, brand.c_str());\n",
    "}"
   ]
  },
  {
   "cell_type": "code",
   "execution_count": 42,
   "id": "dd980d32-548f-4bf2-b877-d36771a80b67",
   "metadata": {},
   "outputs": [],
   "source": [
    "std::string Car::GetBrand() const {\n",
    "    std::string result = \"Brand name: \";\n",
    "    result += Car::brand_;\n",
    "    return result;\n",
    "}"
   ]
  },
  {
   "cell_type": "code",
   "execution_count": 43,
   "id": "1cd26fa4-e8a7-4140-b55b-601e4b913bcc",
   "metadata": {},
   "outputs": [
    {
     "name": "stdout",
     "output_type": "stream",
     "text": [
      "Brand name: Peugeot\n"
     ]
    }
   ],
   "source": [
    "Car car;\n",
    "car.SetBrand(\"Peugeot\");\n",
    "std::cout << car.GetBrand() << \"\\n\";   "
   ]
  },
  {
   "cell_type": "markdown",
   "id": "ddd0e1db-09ac-497f-8b33-07b6460f9d18",
   "metadata": {},
   "source": [
    "## Pyramid"
   ]
  },
  {
   "cell_type": "markdown",
   "id": "4008ff42-ca38-4bea-88b7-d21c9096e5ab",
   "metadata": {},
   "source": [
    "Recall that the volume of a pyramid is:\n",
    "$$\\frac{Length * Width * Height}{3}$$"
   ]
  },
  {
   "cell_type": "code",
   "execution_count": 44,
   "id": "f3992f38-76d5-4850-a4e0-7ca62dd32ce7",
   "metadata": {},
   "outputs": [],
   "source": [
    "#include <cassert>\n",
    "#include <stdexcept>"
   ]
  },
  {
   "cell_type": "code",
   "execution_count": 45,
   "id": "89654ca5-7d5f-4303-b80a-73c0db0f3e20",
   "metadata": {},
   "outputs": [],
   "source": [
    "class Pyramid {\n",
    "    public:\n",
    "        Pyramid(int length, int width, int height) {\n",
    "            SetLength(length);\n",
    "            SetWidth(width);\n",
    "            SetHeight(height);\n",
    "        }\n",
    "        int Length() const { return length_; }\n",
    "        void SetLength(int length) {\n",
    "            if(length > 0) length_ = length;\n",
    "        }\n",
    "        int Width() const { return width_; }\n",
    "        void SetWidth(int width) {\n",
    "            if(width > 0) width_ = width;\n",
    "        }\n",
    "        int Height() const { return height_; }\n",
    "        void SetHeight(int height) {\n",
    "            if(height > 0) height_ = height;\n",
    "        }\n",
    "    \n",
    "        int Volume() {\n",
    "            return (length_ * width_ * height_)/3;\n",
    "        }\n",
    "    \n",
    "    private:\n",
    "        int length_{3};\n",
    "        int width_{1};\n",
    "        int height_{1};\n",
    "};"
   ]
  },
  {
   "cell_type": "code",
   "execution_count": 46,
   "id": "58a81f3b-d16a-4416-8bb4-0096313839bd",
   "metadata": {},
   "outputs": [],
   "source": [
    "int length = 1;\n",
    "int width = 2;\n",
    "int height = 3;\n",
    "Pyramid pyramid(length, width, height);\n",
    "\n",
    "assert(pyramid.Length() == 1);\n",
    "assert(pyramid.Width() == 2);\n",
    "assert(pyramid.Height() == 3);"
   ]
  },
  {
   "cell_type": "code",
   "execution_count": 47,
   "id": "97fc13c0-122c-4e8c-8d67-aa40f2b9c85b",
   "metadata": {},
   "outputs": [
    {
     "name": "stdout",
     "output_type": "stream",
     "text": [
      "The volume is: 2\n"
     ]
    }
   ],
   "source": [
    "std::cout << \"The volume is: \" << pyramid.Volume() << std::endl;"
   ]
  },
  {
   "cell_type": "markdown",
   "id": "94c68c8e-bbba-468b-a7ef-f5faf9ec9c10",
   "metadata": {},
   "source": [
    "## Sphere"
   ]
  },
  {
   "cell_type": "code",
   "execution_count": 48,
   "id": "6b398bd1-cfb2-4aec-afd5-167369b995d7",
   "metadata": {},
   "outputs": [],
   "source": [
    "#include <cassert>\n",
    "#include <cmath>\n",
    "#include <stdexcept>"
   ]
  },
  {
   "cell_type": "code",
   "execution_count": 49,
   "id": "5de24642-e27b-4f53-aa89-334f6afb5ad8",
   "metadata": {},
   "outputs": [],
   "source": [
    "class Sphere {\n",
    " public:\n",
    "  Sphere(int radius) : radius_(radius), volume_(pi_ * 4 / 3 * pow(radius_, 3)) {\n",
    "    if (radius <= 0) throw std::invalid_argument(\"radius must be positive\");\n",
    "  }\n",
    "\n",
    "  int Radius() const { return radius_; }\n",
    "  int Volume() const { return volume_; }\n",
    "\n",
    "  // TODO: mutators\n",
    "  void Radius( int radius ) {\n",
    "      radius_ = radius;\n",
    "      volume_ = pi_ * 4 / 3 * pow(radius_, 3);\n",
    "  }\n",
    "\n",
    " private:\n",
    "  float const pi_{3.14159};\n",
    "  int radius_;\n",
    "  float volume_;\n",
    "};"
   ]
  },
  {
   "cell_type": "code",
   "execution_count": 50,
   "id": "aaf36abb-6192-4c45-bc13-8a1844956f62",
   "metadata": {},
   "outputs": [],
   "source": [
    "Sphere sphere(5);\n",
    "assert(sphere.Radius() == 5);\n",
    "assert(abs(sphere.Volume() - 523.6) < 1);"
   ]
  },
  {
   "cell_type": "code",
   "execution_count": 51,
   "id": "36bb40ab-c99e-4f0f-80e9-b5be6db929c0",
   "metadata": {},
   "outputs": [],
   "source": [
    "sphere.Radius(3);\n",
    "assert(sphere.Radius() == 3);\n",
    "assert(abs(sphere.Volume() - 113.1) < 1);\n",
    "\n",
    "bool caught{false};\n",
    "try {\n",
    "sphere.Radius(-1);\n",
    "} catch (...) {\n",
    "caught = true;\n",
    "}\n",
    "assert(caught);"
   ]
  },
  {
   "cell_type": "markdown",
   "id": "3f29bc39-8f41-4496-bb29-0664d5e0ae60",
   "metadata": {},
   "source": [
    "## Static Example"
   ]
  },
  {
   "cell_type": "code",
   "execution_count": 1,
   "id": "2a6199c6-4446-40e5-8a8d-8a5ae4b2d0a8",
   "metadata": {},
   "outputs": [],
   "source": [
    "#include <iostream>"
   ]
  },
  {
   "cell_type": "code",
   "execution_count": 10,
   "id": "11a4d129-514f-4729-a29a-830db20f01e1",
   "metadata": {},
   "outputs": [
    {
     "name": "stdout",
     "output_type": "stream",
     "text": [
      "2\n",
      "1\n"
     ]
    }
   ],
   "source": [
    "class Something {\n",
    "    public:\n",
    "        int m_value{1};\n",
    "};\n",
    "\n",
    "Something first;\n",
    "Something second;\n",
    "\n",
    "first.m_value = 2;\n",
    "\n",
    "std::cout << first.m_value << std::endl;\n",
    "std::cout << second.m_value << std::endl;"
   ]
  },
  {
   "cell_type": "code",
   "execution_count": 31,
   "id": "15283a74-7401-476f-b065-4e5a22dda3da",
   "metadata": {},
   "outputs": [],
   "source": [
    "class A {\n",
    "    public:\n",
    "        A(int value) { x_ = value; }\n",
    "        static int xValue() { return x_; }\n",
    "    \n",
    "    private:\n",
    "        static int x_;\n",
    "};"
   ]
  },
  {
   "cell_type": "code",
   "execution_count": 35,
   "id": "28ce90f6-3d57-44f4-b101-007e0bbeb5db",
   "metadata": {},
   "outputs": [
    {
     "name": "stderr",
     "output_type": "stream",
     "text": [
      "IncrementalExecutor::executeFunction: symbol '_ZN12__cling_N5311A2x_E' unresolved while linking function '_GLOBAL__sub_I_cling_module_39'!\n",
      "You are probably missing the definition of __cling_N531::A::x_\n",
      "Maybe you need to load the corresponding shared library?\n"
     ]
    },
    {
     "name": "stdout",
     "output_type": "stream",
     "text": [
      "-698416192\n",
      "-698416192\n"
     ]
    }
   ],
   "source": [
    "// They are going to have the same value\n",
    "A first(1);\n",
    "A second(2);\n",
    "\n",
    "std::cout << first.xValue() << std::endl;\n",
    "std::cout << second.xValue() << std::endl;"
   ]
  },
  {
   "cell_type": "code",
   "execution_count": null,
   "id": "ab4c3d73-b97b-4895-bbdc-abf69e221d2c",
   "metadata": {},
   "outputs": [],
   "source": []
  }
 ],
 "metadata": {
  "kernelspec": {
   "display_name": "C++17",
   "language": "C++17",
   "name": "xcpp17"
  },
  "language_info": {
   "codemirror_mode": "text/x-c++src",
   "file_extension": ".cpp",
   "mimetype": "text/x-c++src",
   "name": "c++",
   "version": "17"
  }
 },
 "nbformat": 4,
 "nbformat_minor": 5
}
