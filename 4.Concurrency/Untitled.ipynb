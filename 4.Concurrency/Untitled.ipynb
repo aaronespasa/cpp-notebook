{
 "cells": [
  {
   "cell_type": "markdown",
   "id": "dc4b2a20",
   "metadata": {},
   "source": [
    "### Command to compile a file (main.cpp):\n",
    "`g++ main.cpp -o main.out`\n",
    "\n",
    "### Run the output file (main.out):\n",
    "`./main.out`\n",
    "\n"
   ]
  },
  {
   "cell_type": "code",
   "execution_count": null,
   "id": "31d9aeb6",
   "metadata": {},
   "outputs": [],
   "source": []
  }
 ],
 "metadata": {
  "kernelspec": {
   "display_name": "C++17",
   "language": "C++17",
   "name": "xcpp17"
  },
  "language_info": {
   "codemirror_mode": "text/x-c++src",
   "file_extension": ".cpp",
   "mimetype": "text/x-c++src",
   "name": "c++",
   "version": "17"
  }
 },
 "nbformat": 4,
 "nbformat_minor": 5
}
