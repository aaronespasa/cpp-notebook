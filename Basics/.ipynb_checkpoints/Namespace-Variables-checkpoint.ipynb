{
 "cells": [
  {
   "cell_type": "markdown",
   "id": "8fc79a7e",
   "metadata": {},
   "source": [
    "#### Import the input/output stream library"
   ]
  },
  {
   "cell_type": "code",
   "execution_count": null,
   "id": "ef8eb88a",
   "metadata": {},
   "outputs": [],
   "source": [
    "#include <iostream>"
   ]
  },
  {
   "cell_type": "markdown",
   "id": "5af656ac",
   "metadata": {},
   "source": [
    "#### Main function"
   ]
  },
  {
   "cell_type": "code",
   "execution_count": 6,
   "id": "a47847f4",
   "metadata": {},
   "outputs": [],
   "source": [
    "// Usually, we use the following structure to execute the main program:\n",
    "int main(){\n",
    "    std::cout << \"Hello world, I am ready for C++\";\n",
    "    return 0;\n",
    "}"
   ]
  },
  {
   "cell_type": "code",
   "execution_count": 7,
   "id": "06ff738d",
   "metadata": {},
   "outputs": [
    {
     "name": "stdout",
     "output_type": "stream",
     "text": [
      "Hello world, I am ready for C++"
     ]
    }
   ],
   "source": [
    "// However, in jupyter notebooks we'll simply use:\n",
    "std::cout << \"Hello world, I am ready for C++\";"
   ]
  },
  {
   "cell_type": "markdown",
   "id": "2d435080",
   "metadata": {},
   "source": [
    "#### Namespace\n",
    "To avoid writing std:: we can use the **namespace**.\n",
    "\n",
    "This tells the compiler to assume we are using the standard library in this case."
   ]
  },
  {
   "cell_type": "code",
   "execution_count": 8,
   "id": "b025b885",
   "metadata": {},
   "outputs": [],
   "source": [
    "using namespace std;"
   ]
  },
  {
   "cell_type": "code",
   "execution_count": 9,
   "id": "3563ac46",
   "metadata": {},
   "outputs": [
    {
     "name": "stdout",
     "output_type": "stream",
     "text": [
      "Hello world, I am ready for C++"
     ]
    }
   ],
   "source": [
    "cout << \"Hello world, I am ready for C++\";"
   ]
  },
  {
   "cell_type": "markdown",
   "id": "7a38163d",
   "metadata": {},
   "source": [
    "### Declaring variables\n",
    "#### Datatypes | Meaning | Size (in Bytes):\n",
    "- `int` -> Integer -> 2 or 4\n",
    "- `float` -> Floating-point -> 4\n",
    "- `double` -> Double Floating-point -> 8\n",
    "- `char` -> Character -> 1\n",
    "- `wchar_t` -> Wide Character -> 2\n",
    "- `bool` -> Boolean -> 1 \n",
    "- `void` -> Empty -> 0"
   ]
  },
  {
   "cell_type": "code",
   "execution_count": 12,
   "id": "a6806331",
   "metadata": {},
   "outputs": [
    {
     "name": "stdout",
     "output_type": "stream",
     "text": [
      "They pay me 5000$/month"
     ]
    }
   ],
   "source": [
    "int salary = 5000;\n",
    "\n",
    "std::cout << \"They pay me \" << salary << \"$/month\";"
   ]
  },
  {
   "cell_type": "code",
   "execution_count": null,
   "id": "ca89da70",
   "metadata": {},
   "outputs": [],
   "source": []
  }
 ],
 "metadata": {
  "kernelspec": {
   "display_name": "C++17",
   "language": "C++17",
   "name": "xcpp17"
  },
  "language_info": {
   "codemirror_mode": "text/x-c++src",
   "file_extension": ".cpp",
   "mimetype": "text/x-c++src",
   "name": "c++",
   "version": "17"
  }
 },
 "nbformat": 4,
 "nbformat_minor": 5
}
